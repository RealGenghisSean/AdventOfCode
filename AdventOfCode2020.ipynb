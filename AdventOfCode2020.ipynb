{
 "cells": [
  {
   "cell_type": "code",
   "execution_count": 1,
   "metadata": {},
   "outputs": [
    {
     "name": "stderr",
     "output_type": "stream",
     "text": [
      "2020-12-27 09:27:20 INFO: Logging set.\n"
     ]
    }
   ],
   "source": [
    "import os\n",
    "import re\n",
    "import math\n",
    "import logging\n",
    "import random\n",
    "import functools\n",
    "\n",
    "import sqlite3\n",
    "import json\n",
    "import pandas as pd\n",
    "import numpy as np\n",
    "import itertools as tt\n",
    "\n",
    "from typing import List, Tuple\n",
    "#from collections import Counter\n",
    "import matplotlib.pyplot as plt\n",
    "Vector = List[float]\n",
    "Matrix = List[List[float]]\n",
    "\n",
    "logging.basicConfig(format='%(asctime)s %(levelname)s: %(message)s', datefmt='%Y-%m-%d %I:%M:%S')\n",
    "logging.getLogger().setLevel(logging.INFO)\n",
    "logging.info(\"Logging set.\")"
   ]
  },
  {
   "cell_type": "code",
   "execution_count": 2,
   "metadata": {},
   "outputs": [],
   "source": [
    "def get_integer_input(filename):\n",
    "    retval = None\n",
    "    with open(filename) as IN:\n",
    "        retval = [int(x) for x in IN.read().splitlines()]\n",
    "    logging.info(\"Got {} integers from {}.\".format(len(retval),filename))\n",
    "    return retval\n",
    "\n",
    "def get_string_input(filename):\n",
    "    retval = None\n",
    "    with open(filename) as IN:\n",
    "        retval = IN.read().splitlines()\n",
    "    logging.info(\"Got {} lines from {}.\".format(len(retval),filename))\n",
    "    return retval\n",
    "\n",
    "def reverse_graph(A):\n",
    "    ''' Return the transpose of the adjency matrix A\n",
    "            A is a dict of dicts;  A[x][y] = value\n",
    "            retval[x][y] = A[y][x]\n",
    "    '''\n",
    "    retval = dict()\n",
    "    for row in A.keys():\n",
    "        retval[row] = dict()\n",
    "    for row, cols in A.items():\n",
    "        for col in cols.keys():\n",
    "            retval[col][row] = A[row][col]\n",
    "    return retval\n",
    "\n",
    "\n",
    "def vector_scale(k, vec):\n",
    "    return [k * v for v in vec]\n",
    "\n",
    "\n",
    "def vector_sum(vec1, vec2):\n",
    "    assert len(vec1) == len(vec2)\n",
    "    return [v1 + v2 for v1, v2 in zip(vec1, vec2)]\n",
    "\n",
    "\n",
    "def vector_equal(vec1, vec2):\n",
    "    retval = False\n",
    "    if len(vec1) == len(vec2):\n",
    "        retval = True\n",
    "        for v1, v2 in zip(vec1, vec2):\n",
    "            if v1 != v2:\n",
    "                retval = False\n",
    "                break\n",
    "    return retval\n",
    "\n",
    "\n",
    "def l1_norm(vec):\n",
    "    return sum([abs(v) for v in vec])"
   ]
  },
  {
   "cell_type": "markdown",
   "metadata": {},
   "source": [
    "## Day 1:  Report Repair"
   ]
  },
  {
   "cell_type": "markdown",
   "metadata": {},
   "source": [
    "### Problem 1: Find the two entries that sum to 2020; what do you get if you multiply them together?"
   ]
  },
  {
   "cell_type": "markdown",
   "metadata": {},
   "source": [
    "### Problem 2: Find the three entries that sum to 2020; what do you get if you multiply them together?"
   ]
  },
  {
   "cell_type": "code",
   "execution_count": 3,
   "metadata": {},
   "outputs": [
    {
     "name": "stderr",
     "output_type": "stream",
     "text": [
      "2020-12-27 09:27:20 INFO: Got 200 integers from prob1expenses.txt.\n",
      "2020-12-27 09:27:20 INFO: Problem 1 solution:  x = 409, y = 1611, sum = 2020, product = 658899\n",
      "2020-12-27 09:27:20 INFO: Problem 2 solution:  x = 250, y = 485, z = 1285, sum = 2020, product = 155806250\n"
     ]
    }
   ],
   "source": [
    "entries = get_integer_input('prob1expenses.txt')\n",
    "\n",
    "sols1 = [(x,y,x+y,x*y) for x in entries for y in entries if x < y and x + y == 2020]\n",
    "sols2 = [(x,y,z,x+y+z,x*y*z) for x in entries for y in entries for z in entries if x < y < z and x + y + z == 2020]\n",
    "for s in sols1:\n",
    "    logging.info(\"Problem 1 solution:  x = {}, y = {}, sum = {}, product = {}\".format(*s))\n",
    "for s in sols2:\n",
    "    logging.info(\"Problem 2 solution:  x = {}, y = {}, z = {}, sum = {}, product = {}\".format(*s))\n"
   ]
  },
  {
   "cell_type": "markdown",
   "metadata": {},
   "source": [
    "## Day 2:  Password Philosophy"
   ]
  },
  {
   "cell_type": "markdown",
   "metadata": {},
   "source": [
    "### Problem 3: Find the number of \"valid\" passwords."
   ]
  },
  {
   "cell_type": "markdown",
   "metadata": {},
   "source": [
    "### Problem 4: Find the number of \"valid\" passwords with a different definition of valid."
   ]
  },
  {
   "cell_type": "code",
   "execution_count": 4,
   "metadata": {},
   "outputs": [
    {
     "name": "stderr",
     "output_type": "stream",
     "text": [
      "2020-12-27 09:27:20 INFO: Got 1000 lines from prob3passwords.txt.\n",
      "2020-12-27 09:27:20 INFO: Problem 3: 614 of 1000 are valid.\n",
      "2020-12-27 09:27:20 INFO: Problem 4: 354 of 1000 are valid.\n"
     ]
    }
   ],
   "source": [
    "def is_valid_q3(lo, hi, char, pswd):\n",
    "    ''' Valid passwords for question 3 '''\n",
    "    retval = False\n",
    "    assert lo <= len(pswd) and hi <= len(pswd)\n",
    "    char_count = pswd.count(char)\n",
    "    if lo <= char_count and char_count <= hi:\n",
    "        retval = True\n",
    "    return retval\n",
    "\n",
    "def is_valid_q4(pos1, pos2, char, pswd):\n",
    "    ''' Valid passwords for question 4 '''\n",
    "    retval = False\n",
    "    assert pos1 <= len(pswd) and pos2 <= len(pswd)\n",
    "    if pswd[pos1-1] != pswd[pos2-1]:\n",
    "        if char in [ pswd[pos1-1], pswd[pos2-1] ]:\n",
    "            retval = True\n",
    "    return retval\n",
    "\n",
    "##################################################################\n",
    "\n",
    "lines = get_string_input('prob3passwords.txt')\n",
    "\n",
    "valid_q3, valid_q4 = 0, 0\n",
    "\n",
    "lineFormat = re.compile('^(\\d+)-(\\d+) ([a-z]): ([a-z]+)\\s?$')\n",
    "for line in lines:\n",
    "    m1 = lineFormat.match(line)\n",
    "    if m1 == None:\n",
    "        logging.error(line)\n",
    "    else:\n",
    "        lo, hi, char, pswd = m1.groups(1)\n",
    "        if is_valid_q3(int(lo), int(hi), char, pswd):\n",
    "            valid_q3 += 1\n",
    "        if is_valid_q4(int(lo), int(hi), char, pswd):\n",
    "            valid_q4 += 1\n",
    "\n",
    "logging.info(\"Problem 3: {} of {} are valid.\".format(valid_q3, len(lines) ))\n",
    "logging.info(\"Problem 4: {} of {} are valid.\".format(valid_q4, len(lines) ))        "
   ]
  },
  {
   "cell_type": "markdown",
   "metadata": {},
   "source": [
    "## Day 3:  Toboggan Trajectory"
   ]
  },
  {
   "cell_type": "markdown",
   "metadata": {},
   "source": [
    "### Problem 5: Starting at the top-left corner of your map and following a slope of right 3 and down 1, how many trees would you encounter?"
   ]
  },
  {
   "cell_type": "markdown",
   "metadata": {},
   "source": [
    "### Problem 6: What do you get if you multiply together the number of trees encountered on each of the listed slopes?"
   ]
  },
  {
   "cell_type": "code",
   "execution_count": 5,
   "metadata": {},
   "outputs": [
    {
     "name": "stderr",
     "output_type": "stream",
     "text": [
      "2020-12-27 09:27:20 INFO: Got 323 lines from prob5trees.txt.\n",
      "2020-12-27 09:27:20 INFO: Problem 5: for slope [3,1], tree_count = 156\n",
      "2020-12-27 09:27:20 INFO: Problem 6: tree_counts = [79, 156, 85, 82, 41], Product = 3521829480\n"
     ]
    }
   ],
   "source": [
    "lines = get_string_input('prob5trees.txt')\n",
    "\n",
    "line_len = len(lines[0])\n",
    "tree_counts = []\n",
    "\n",
    "# Problem 5 is computed in the second iteration of the following loop in part 6.\n",
    "for step_col, step_row in [[1,1], [3,1], [5,1], [7,1], [1,2]]:\n",
    "    row, col, tree_count = 0, 0, 0\n",
    "    while row < len(lines)-1:\n",
    "        row += step_row\n",
    "        col = (col + step_col) % line_len\n",
    "        if lines[row][col] == '#':\n",
    "            tree_count += 1\n",
    "    tree_counts.append(tree_count)\n",
    "\n",
    "product = functools.reduce(lambda x, y: x * y, tree_counts, 1)\n",
    "logging.info(\"Problem 5: for slope [3,1], tree_count = {}\".format(tree_counts[1],))\n",
    "logging.info(\"Problem 6: tree_counts = {}, Product = {}\".format(tree_counts, product))"
   ]
  },
  {
   "cell_type": "markdown",
   "metadata": {},
   "source": [
    "## Day 4:  Passport Processing"
   ]
  },
  {
   "cell_type": "markdown",
   "metadata": {},
   "source": [
    "### Problem 7: How many passports are valid?"
   ]
  },
  {
   "cell_type": "markdown",
   "metadata": {},
   "source": [
    "### Problem 8: How many passports are valid with stricter guidelines?"
   ]
  },
  {
   "cell_type": "code",
   "execution_count": 6,
   "metadata": {},
   "outputs": [
    {
     "name": "stderr",
     "output_type": "stream",
     "text": [
      "2020-12-27 09:27:20 INFO: Got 1136 lines from prob7passports.txt.\n",
      "2020-12-27 09:27:20 INFO: Problem 7: 237 passports out of 290 are valid.\n",
      "2020-12-27 09:27:20 INFO: Problem 8: 172 passports out of 290 are valid.\n"
     ]
    }
   ],
   "source": [
    "def process_passports(lines):\n",
    "    ''' Process the input into a list of dictionarys, each dictionary a passport. '''\n",
    "    retval = []\n",
    "    passport = dict()\n",
    "    for line in lines:\n",
    "        if line == '':  # indicates break between passports\n",
    "            retval.append(passport)\n",
    "            passport = dict()\n",
    "        else:\n",
    "            for pair in line.split():\n",
    "                key, val = pair.split(':')\n",
    "                passport[key] = val\n",
    "    retval.append(passport) # add final passport\n",
    "    return retval\n",
    "\n",
    "\n",
    "def is_valid_q7(p):\n",
    "    ''' Valid passport for question 7. \n",
    "            p is a dictionary with 8 possible keys\n",
    "    '''\n",
    "    retval = True\n",
    "    for key in ['byr', 'iyr', 'eyr', 'hgt', 'hcl', 'ecl', 'pid']:\n",
    "        if p.get(key, None) == None:\n",
    "            retval = False\n",
    "    return retval\n",
    "\n",
    "\n",
    "def is_valid_q8(p):\n",
    "    ''' Valid passport for question 7. \n",
    "            p is a dictionary with 8 possible keys\n",
    "    '''    \n",
    "    retval = True\n",
    "\n",
    "    # byr\n",
    "    val = int(p.get('byr','1900'))\n",
    "    if val < 1920 or val > 2002:\n",
    "        return False\n",
    "    \n",
    "    # iyr\n",
    "    val = int(p.get('iyr','1900'))\n",
    "    if val < 2010 or val > 2020:\n",
    "        return False\n",
    "\n",
    "    # eyr\n",
    "    val = int(p.get('eyr','1900'))\n",
    "    if val < 2020 or val > 2030:\n",
    "        return False\n",
    "\n",
    "    # hgt\n",
    "    val = p.get('hgt','0cm')\n",
    "    m_cm = re.match('^(\\d+)cm$', val)\n",
    "    m_in = re.match('^(\\d+)in$', val)\n",
    "    if m_cm == None and m_in == None:\n",
    "        return False\n",
    "    elif m_cm != None:\n",
    "        cm_val = int(m_cm.groups(1)[0])\n",
    "        if cm_val < 150 or cm_val > 193:\n",
    "            return False\n",
    "    else:\n",
    "        in_val = int(m_in.groups(1)[0])\n",
    "        if in_val < 59 or in_val > 76:\n",
    "            return False\n",
    "\n",
    "    # hcl\n",
    "    if re.match('^#[0-9a-f]{6}$', p.get('hcl','')) == None:\n",
    "        return False\n",
    "    \n",
    "    # ecl\n",
    "    if p.get('ecl','') not in ['amb', 'blu', 'brn', 'gry', 'grn', 'hzl', 'oth']:\n",
    "        return False\n",
    "\n",
    "    # pid\n",
    "    if re.match('^[0-9]{9}$', p.get('pid','')) == None:\n",
    "        return False\n",
    "\n",
    "    return retval\n",
    "\n",
    "########################################################################\n",
    "\n",
    "lines = get_string_input('prob7passports.txt')\n",
    "passports = process_passports(lines)\n",
    "\n",
    "valid_q7, valid_q8 = 0, 0\n",
    "for p in passports:\n",
    "    if is_valid_q7(p):\n",
    "        valid_q7 += 1\n",
    "    if is_valid_q8(p):\n",
    "        valid_q8 += 1\n",
    "\n",
    "logging.info(\"Problem 7: {} passports out of {} are valid.\".format(valid_q7, len(passports)))\n",
    "logging.info(\"Problem 8: {} passports out of {} are valid.\".format(valid_q8, len(passports)))\n",
    "        "
   ]
  },
  {
   "cell_type": "markdown",
   "metadata": {},
   "source": [
    "## Day 5:  Binary Boarding"
   ]
  },
  {
   "cell_type": "markdown",
   "metadata": {},
   "source": [
    "### Problem 9: What is the highest seat id? "
   ]
  },
  {
   "cell_type": "markdown",
   "metadata": {},
   "source": [
    "### Problem 10:  What is your seat id (the one missing in the middle)?"
   ]
  },
  {
   "cell_type": "code",
   "execution_count": 7,
   "metadata": {},
   "outputs": [
    {
     "name": "stderr",
     "output_type": "stream",
     "text": [
      "2020-12-27 09:27:20 INFO: Got 867 lines from prob9seats.txt.\n",
      "2020-12-27 09:27:20 INFO: Problem 9: Max seat id = 880.\n",
      "2020-12-27 09:27:20 INFO: Problem 10: 730 and 732 are taken but 731 is not.\n"
     ]
    }
   ],
   "source": [
    "def get_row(r):\n",
    "    return sum([2**(6-i) for i, ch in enumerate(r) if ch == 'B'])\n",
    "    \n",
    "def get_seat(s):\n",
    "    return sum([2**(2-i) for i, ch in enumerate(s) if ch == 'R'])\n",
    "    \n",
    "def get_seat_id(row, seat):\n",
    "    return 8*row + seat\n",
    "\n",
    "#####################################################################\n",
    "\n",
    "seats = get_string_input('prob9seats.txt')\n",
    "\n",
    "sids = []\n",
    "for seat in seats:\n",
    "    m1 = re.match('^([FB]{7})([RL]{3})$', seat)\n",
    "    if m1 == None:\n",
    "        logging.error(\"Could not parse: {}\".format(seat,))\n",
    "    else:\n",
    "        r, s = m1.groups(1)\n",
    "        sids.append(get_seat_id(get_row(r), get_seat(s)))\n",
    "\n",
    "logging.info(\"Problem 9: Max seat id = {}.\".format(max(sids),))\n",
    "for sid in sids:\n",
    "    if sid+1 not in sids and sid+2 in sids:\n",
    "        logging.info(\"Problem 10: {} and {} are taken but {} is not.\".format(sid, sid+2, sid+1))"
   ]
  },
  {
   "cell_type": "markdown",
   "metadata": {},
   "source": [
    "## Day 6:  Custom Customs"
   ]
  },
  {
   "cell_type": "markdown",
   "metadata": {},
   "source": [
    "### Problem 11: For each group, count the number of questions to which anyone answered \"yes\". What is the sum of those counts?"
   ]
  },
  {
   "cell_type": "markdown",
   "metadata": {},
   "source": [
    "### Problem 12:  For each group, count the number of questions to which everyone answered \"yes\". What is the sum of those counts?"
   ]
  },
  {
   "cell_type": "code",
   "execution_count": 8,
   "metadata": {},
   "outputs": [
    {
     "name": "stderr",
     "output_type": "stream",
     "text": [
      "2020-12-27 09:27:20 INFO: Got 2132 lines from prob11surveys.txt.\n",
      "2020-12-27 09:27:20 INFO: There are 478 groups.\n",
      "2020-12-27 09:27:20 INFO: Problem 11: The count is 6521.\n",
      "2020-12-27 09:27:20 INFO: Problem 12: The count is 3305.\n"
     ]
    }
   ],
   "source": [
    "def process_surveys(lines):\n",
    "    ''' Process the input into a list of lists, each sublist is a survey. '''\n",
    "    retval = []\n",
    "    group = []\n",
    "    for line in lines:\n",
    "        if line == '':  # indicates a break between groups\n",
    "            retval.append(group)\n",
    "            group = []\n",
    "        else:\n",
    "            group.append(line)\n",
    "    retval.append(group) # append last group\n",
    "    return retval\n",
    "\n",
    "###############################################################\n",
    "\n",
    "lines = get_string_input('prob11surveys.txt')\n",
    "\n",
    "groups = process_surveys(lines)\n",
    "logging.info(\"There are {} groups.\".format(len(groups),))\n",
    "\n",
    "count_q11 = 0\n",
    "count_q12 = 0\n",
    "for group in groups:\n",
    "    yeses_q11 = set()\n",
    "    yeses_q12 = None\n",
    "    for g in group:\n",
    "        yeses_q11 = yeses_q11.union(set(g))\n",
    "        if yeses_q12 == None:  # Intialize the intersection.\n",
    "            yeses_q12 = set(g)\n",
    "        else:\n",
    "            yeses_q12 = yeses_q12.intersection(set(g))\n",
    "    count_q11 += len(yeses_q11)\n",
    "    count_q12 += len(yeses_q12)\n",
    "        \n",
    "logging.info(\"Problem 11: The count is {}.\".format(count_q11,))\n",
    "logging.info(\"Problem 12: The count is {}.\".format(count_q12,))"
   ]
  },
  {
   "cell_type": "markdown",
   "metadata": {},
   "source": [
    "## Day 7: Handy Haversacks"
   ]
  },
  {
   "cell_type": "markdown",
   "metadata": {},
   "source": [
    "### Problem 13: How many bag colors can eventually contain at least one shiny gold bag?"
   ]
  },
  {
   "cell_type": "markdown",
   "metadata": {},
   "source": [
    "### Problem 14: How many individual bags are required inside your single shiny gold bag?"
   ]
  },
  {
   "cell_type": "code",
   "execution_count": 9,
   "metadata": {},
   "outputs": [
    {
     "name": "stderr",
     "output_type": "stream",
     "text": [
      "2020-12-27 09:27:20 INFO: Got 594 lines from prob13bags.txt.\n",
      "2020-12-27 09:27:20 INFO: Problem 13: The number of bags that contain 'shiny gold'' is 296.\n",
      "2020-12-27 09:27:20 INFO: Problem 14: The number of bags contained in 'shiny gold' is 9339.\n"
     ]
    }
   ],
   "source": [
    "def process_rules(rules):\n",
    "    ''' Process the input into a dict of dicts:\n",
    "            retval[color1][color2] = count\n",
    "            # bag color1 contains exactly count bags of color2\n",
    "    '''\n",
    "    retval = dict()\n",
    "    for rule in rules:\n",
    "        m1 = re.match('^(.*) bags contain (.*)\\.$', rule)\n",
    "        if m1 == None:\n",
    "            logging.error(\"Could not match outer rule: '{}'\".format(rule,))\n",
    "        else:\n",
    "            outer, contents = m1.groups(1) # [color of outer bag, contents of outer bag]\n",
    "            retval[outer] = dict()\n",
    "\n",
    "            for b in contents.split(', '):\n",
    "                m2 = re.match('^(\\d)+ (.*) bag[s]?$', b)  # \n",
    "                if m2 != None:\n",
    "                    num, inner = m2.groups(1)\n",
    "                    retval[outer][inner] = int(num)\n",
    "                elif re.match('^no other bags$', b) == None:\n",
    "                    logging.error(\"could not match '{}'  '{}'\".format(outer, b))\n",
    "    return retval\n",
    "\n",
    "\n",
    "def is_descendent(myDict, ancestor, spawn):\n",
    "    ''' Recursive boolean to test if spawn is a descendent of ancestor. '''\n",
    "    retval = False\n",
    "    if ancestor == spawn:  # Don't ask how this is possible.\n",
    "        retval = True\n",
    "    else:\n",
    "        for child in myDict[ancestor].keys():\n",
    "            if is_descendent(myDict, child, spawn) == True:\n",
    "                retval = True\n",
    "                break\n",
    "    return retval\n",
    "\n",
    "\n",
    "def count_descendents(myDict, ancestor):\n",
    "    ''' Recursive count of descendent of ancestor. '''\n",
    "    retval = 0\n",
    "    for child, value in myDict[ancestor].items():\n",
    "        retval += myDict[ancestor][child] * (1 + count_descendents(myDict, child))\n",
    "    return retval\n",
    "\n",
    "###################################################################################\n",
    "\n",
    "rules = get_string_input('prob13bags.txt')\n",
    "rules_dict = process_rules(rules)  # rules_dict[outer][inner] = count\n",
    "\n",
    "myColor = 'shiny gold'\n",
    "ancestors = [c for c in rules_dict.keys() if is_descendent(rules_dict, c, myColor) and c != myColor]\n",
    "logging.info(\"Problem 13: The number of bags that contain '{}'' is {}.\".format(myColor, len(ancestors)))\n",
    "\n",
    "prodigy = count_descendents(rules_dict, myColor)\n",
    "logging.info(\"Problem 14: The number of bags contained in '{}' is {}.\".format(myColor, prodigy))\n"
   ]
  },
  {
   "cell_type": "markdown",
   "metadata": {},
   "source": [
    "## Day 8:  Handheld Halting"
   ]
  },
  {
   "cell_type": "markdown",
   "metadata": {},
   "source": [
    "### Problem 15: Run your copy of the boot code. Immediately before any instruction is executed a second time, what value is in the accumulator?"
   ]
  },
  {
   "cell_type": "markdown",
   "metadata": {},
   "source": [
    "### Problem 16: Fix the program so that it terminates normally by changing exactly one jmp (to nop) or nop (to jmp). What is the value of the accumulator after the program terminates?"
   ]
  },
  {
   "cell_type": "code",
   "execution_count": 10,
   "metadata": {},
   "outputs": [
    {
     "name": "stderr",
     "output_type": "stream",
     "text": [
      "2020-12-27 09:27:20 INFO: Got 675 lines from prob15code.txt.\n",
      "2020-12-27 09:27:20 INFO: Problem 15: Before index 641 is repeated the accumulator is 1928.\n",
      "2020-12-27 09:27:20 INFO: Problem 16: Changed index 407 and program terminated with accumulator 1319.\n"
     ]
    }
   ],
   "source": [
    "def process_commands(lines):\n",
    "    retval = []\n",
    "    for line in lines:\n",
    "        m1 = re.match('^([a-z]{3}) ([\\-\\+]{1})([\\d]+)$', line)\n",
    "        if m1 == None:\n",
    "            logging.error(\"Invalid command line: {}\".format(line,))\n",
    "        else:\n",
    "            command, sign, num = m1.groups(1)\n",
    "            num = int(num)\n",
    "            if sign == '-':\n",
    "                num = -1*num\n",
    "            retval.append({'c':command, 'n':num})\n",
    "    return retval\n",
    "\n",
    "\n",
    "def run_command(com, accum, index):\n",
    "    if com['c'] == 'acc':\n",
    "        accum += com['n']\n",
    "    elif com['c'] == 'jmp':\n",
    "        index += com['n'] - 1  # will be added on return\n",
    "    return accum, index+1\n",
    "\n",
    "\n",
    "def modify_program(commands, index):\n",
    "    ''' Return a boolean indicating if swap made at index. '''\n",
    "    retval = False\n",
    "    if commands[index]['c'] == 'jmp':\n",
    "        commands[index]['c'] = 'nop'\n",
    "        retval = True\n",
    "    elif commands[index]['c'] == 'nop':\n",
    "        commands[index]['c'] = 'jmp'\n",
    "        retval = True\n",
    "    return retval\n",
    "    \n",
    "\n",
    "def run_program(commands):\n",
    "    ''' Run program until repeat of index or program terminates. \n",
    "            Return boolean, index, accumulator\n",
    "    '''\n",
    "    completed = False\n",
    "    accum, index = 0, 0\n",
    "    used = set()\n",
    "    while index not in used:\n",
    "        used.add(index)\n",
    "        accum, index = run_command(commands[index], accum, index)\n",
    "        if index == len(commands):\n",
    "            completed = True\n",
    "            break\n",
    "    return completed, index, accum\n",
    "    \n",
    "    \n",
    "###########################################################################\n",
    "\n",
    "lines = get_string_input('prob15code.txt')\n",
    "\n",
    "commands = process_commands(lines)\n",
    "\n",
    "completed, index, accum = run_program(commands)\n",
    "logging.info(\"Problem 15: Before index {} is repeated the accumulator is {}.\".format(index, accum))\n",
    "\n",
    "for chng in range(len(commands)):\n",
    "    if modify_program(commands, chng):\n",
    "        completed, index, accum = run_program(commands)\n",
    "        modify_program(commands, chng)  # change back\n",
    "        if completed == True:\n",
    "            break\n",
    "\n",
    "logging.info(\"Problem 16: Changed index {} and program terminated with accumulator {}.\".format(chng, accum))\n",
    "    \n",
    "        "
   ]
  },
  {
   "cell_type": "markdown",
   "metadata": {},
   "source": [
    "## Day 9:  Encoding Error"
   ]
  },
  {
   "cell_type": "markdown",
   "metadata": {},
   "source": [
    "### Problem 17: The first step of attacking the weakness in the XMAS data is to find the first number in the list (after the preamble) which is not the sum of two of the 25 numbers before it. What is the first number that does not have this property?"
   ]
  },
  {
   "cell_type": "markdown",
   "metadata": {},
   "source": [
    "### Problem 18: What is the encryption weakness in your XMAS-encrypted list of numbers?"
   ]
  },
  {
   "cell_type": "code",
   "execution_count": 11,
   "metadata": {},
   "outputs": [
    {
     "name": "stderr",
     "output_type": "stream",
     "text": [
      "2020-12-27 09:27:20 INFO: Got 1000 integers from prob17numbers.txt.\n",
      "2020-12-27 09:27:20 INFO: Problem 17: At index 640 the value 1309761972 is not valid\n",
      "2020-12-27 09:27:21 INFO: Problem 18: The range is [524, 540] and the weakness is 177989832\n"
     ]
    }
   ],
   "source": [
    "def is_valid(numbers, index):\n",
    "    retval = False\n",
    "    for i in range(index-25, index):\n",
    "        for j in range(i+1, index):\n",
    "            if numbers[i] + numbers[j] == numbers[index]:\n",
    "                retval = True\n",
    "                break\n",
    "        if retval == True:\n",
    "            break\n",
    "    return retval\n",
    "\n",
    "################################################################\n",
    "\n",
    "numbers = get_integer_input('prob17numbers.txt')\n",
    "\n",
    "for index in range(25,len(numbers)):\n",
    "    if not is_valid(numbers, index):\n",
    "        break\n",
    "logging.info(\"Problem 17: At index {} the value {} is not valid\".format(index, numbers[index]))\n",
    "\n",
    "target = numbers[index]\n",
    "myRange = None\n",
    "for start in range(len(numbers)):\n",
    "    for end in range(start+1, len(numbers)):\n",
    "        mySum = sum(numbers[start:end+1])\n",
    "        if mySum == target:\n",
    "            myRange = [start, end]\n",
    "        elif mySum > target:\n",
    "            break\n",
    "    if myRange != None:\n",
    "        break\n",
    "\n",
    "weakness = min(numbers[start:end+1]) + max(numbers[start:end+1])\n",
    "logging.info(\"Problem 18: The range is {} and the weakness is {}\".format(myRange, weakness))\n",
    "\n",
    "        "
   ]
  },
  {
   "cell_type": "markdown",
   "metadata": {},
   "source": [
    "## Day 10: Adapter Array"
   ]
  },
  {
   "cell_type": "markdown",
   "metadata": {},
   "source": [
    "### Problem 19: Find a chain that uses all of your adapters to connect the charging outlet to your device's built-in adapter and count the joltage differences between the charging outlet, the adapters, and your device. What is the number of 1-jolt differences multiplied by the number of 3-jolt differences?"
   ]
  },
  {
   "cell_type": "markdown",
   "metadata": {},
   "source": [
    "### Problem 20: What is the total number of distinct ways you can arrange the adapters to connect the charging outlet to your device?"
   ]
  },
  {
   "cell_type": "code",
   "execution_count": 12,
   "metadata": {},
   "outputs": [
    {
     "name": "stderr",
     "output_type": "stream",
     "text": [
      "2020-12-27 09:27:21 INFO: Got 107 integers from prob19numbers.txt.\n",
      "2020-12-27 09:27:21 INFO: Problem 19: The difference counts are [0, 75, 0, 33], the product is 2475.\n",
      "2020-12-27 09:27:21 INFO: Problem 20: The number of paths to maximum joltage is 442136281481216.\n"
     ]
    }
   ],
   "source": [
    "numbers = sorted(get_integer_input('prob19numbers.txt'))\n",
    "\n",
    "diffs = [0,0,0,1]  # The last diff (from the highest value in the list) is 3, including here\n",
    "for i in range(len(numbers)):\n",
    "    diff = numbers[i] if i == 0 else numbers[i] - numbers[i-1]\n",
    "    #diff = numbers[i]\n",
    "    #if i > 0:\n",
    "    #    diff -= numbers[i-1]\n",
    "    if diff > 3:\n",
    "        logging.error(\"Distance too great:  {} {}\".format(i-1, i))\n",
    "    else:\n",
    "        diffs[diff] += 1\n",
    "logging.info(\"Problem 19: The difference counts are {}, the product is {}.\".format(diffs, diffs[1] * diffs[3]))\n",
    "\n",
    "\n",
    "paths = [0] * len(numbers)\n",
    "for i in range(len(numbers)):\n",
    "    if numbers[i] <= 3:\n",
    "        paths[i] += 1\n",
    "    for j in range(max(0,i-3), i):\n",
    "        if numbers[i] - numbers[j] <= 3:\n",
    "            paths[i] += paths[j]\n",
    "logging.info(\"Problem 20: The number of paths to maximum joltage is {}.\".format(paths[-1],))\n"
   ]
  },
  {
   "cell_type": "markdown",
   "metadata": {},
   "source": [
    "## Day 11: Seating System"
   ]
  },
  {
   "cell_type": "markdown",
   "metadata": {},
   "source": [
    "### Problem 21: Simulate your seating area by applying the seating rules repeatedly until no seats change state. How many seats end up occupied?"
   ]
  },
  {
   "cell_type": "markdown",
   "metadata": {},
   "source": [
    "### Problem 22: Given the new visibility method and the rule change for occupied seats becoming empty, once equilibrium is reached, how many seats end up occupied?"
   ]
  },
  {
   "cell_type": "code",
   "execution_count": 13,
   "metadata": {},
   "outputs": [
    {
     "name": "stderr",
     "output_type": "stream",
     "text": [
      "2020-12-27 09:27:21 INFO: Got 97 lines from prob21.txt.\n",
      "2020-12-27 09:27:24 INFO: Problem 21: Occupied seats after 82 iterations is 2368\n",
      "2020-12-27 09:27:36 INFO: Problem 22: Occupied seats after 85 iterations is 2124\n"
     ]
    }
   ],
   "source": [
    "def process_seats(lines):\n",
    "    return [ [ch for ch in line] for line in lines]\n",
    "\n",
    "def count_adjacent(layout, row, col):\n",
    "    retval = 0\n",
    "    m, n = len(layout), len(layout[0])    # rows, cols\n",
    "    for r in range(max(0,row-1), min(row+2, m)):\n",
    "        for c in range(max(0,col-1), min(col+2, n)):\n",
    "            if (row != r or col != c) and layout[r][c] == '#':\n",
    "                retval += 1\n",
    "    return retval\n",
    "\n",
    "def count_viewable(grid, row, col):\n",
    "    retval = 0\n",
    "    m, n = len(grid), len(grid[0])    # num rows, num cols\n",
    "    #step         e,     ne,     n,      nw,      w,      sw,     s,     se\n",
    "    for step in [[0,1], [-1,1], [-1,0], [-1,-1], [0,-1], [1,-1], [1,0], [1,1]]:\n",
    "        r, c = row, col\n",
    "        for k in range(max(m, n)):\n",
    "            r, c = vector_sum([r, c], step)\n",
    "            if r < 0 or r >= m or c < 0 or c >=n:\n",
    "                break  # looked beyond edge\n",
    "            elif grid[r][c] == 'L':\n",
    "                break\n",
    "            elif grid[r][c] == '#':\n",
    "                retval += 1\n",
    "                break\n",
    "    return retval\n",
    "\n",
    "def step_val(grid, row, col, version):\n",
    "    assert version in ['adj', 'view']\n",
    "    retval = grid[row][col]\n",
    "    count, limit = None,  None\n",
    "    if version == 'adj':\n",
    "        count, limit = count_adjacent(grid, row, col), 4\n",
    "    else:\n",
    "        count, limit = count_viewable(grid, row, col), 5\n",
    "\n",
    "    if retval == 'L' and count == 0:\n",
    "        retval = '#'\n",
    "    elif retval == '#' and count >= limit:\n",
    "        retval = 'L'\n",
    "    return retval\n",
    "\n",
    "def step_grid(grid, version):\n",
    "    retval = []\n",
    "    m, n, changed = len(grid), len(grid[0]), False\n",
    "    for r in range(m):\n",
    "        retval.append( [step_val(grid, r, c, version) for c in range(n)] )\n",
    "        changed |= not vector_equal(retval[r], grid[r])\n",
    "    return changed, retval\n",
    "\n",
    "def get_occupied(grid):\n",
    "    return sum([sum([1 for ch in row if ch == '#']) for row in grid])\n",
    "\n",
    "##########################################################################    \n",
    "\n",
    "#lines = ['L.LL.LL.LL','LLLLLLL.LL','L.L.L..L..','LLLL.LL.LL','L.LL.LL.LL',\n",
    "#        'L.LLLLL.LL','..L.L.....','LLLLLLLLLL','L.LLLLLL.L','L.LLLLL.LL']\n",
    "\n",
    "lines = get_string_input('prob21.txt')\n",
    "\n",
    "grid = process_seats(lines)\n",
    "steps, changed = 0, True\n",
    "while changed == True:\n",
    "    changed, grid = step_grid(grid, 'adj')\n",
    "    steps += 1\n",
    "logging.info(\"Problem 21: Occupied seats after {} iterations is {}\".format(steps, get_occupied(grid),))\n",
    "\n",
    "\n",
    "grid = process_seats(lines)\n",
    "steps, changed = 0, True\n",
    "while changed == True:\n",
    "    changed, grid = step_grid(grid, 'view')\n",
    "    steps += 1\n",
    "logging.info(\"Problem 22: Occupied seats after {} iterations is {}\".format(steps, get_occupied(grid),))\n",
    "\n"
   ]
  },
  {
   "cell_type": "markdown",
   "metadata": {},
   "source": [
    "## Day 12: Rain Risk"
   ]
  },
  {
   "cell_type": "markdown",
   "metadata": {},
   "source": [
    "### Problem 23: Figure out where the navigation instructions lead. What is the Manhattan distance between that location and the ship's starting position?"
   ]
  },
  {
   "cell_type": "markdown",
   "metadata": {},
   "source": [
    "### Problem 24: Figure out where the navigation instructions actually lead. What is the Manhattan distance between that location and the ship's starting position?"
   ]
  },
  {
   "cell_type": "code",
   "execution_count": 14,
   "metadata": {},
   "outputs": [
    {
     "name": "stderr",
     "output_type": "stream",
     "text": [
      "2020-12-27 09:27:36 INFO: Got 788 lines from prob23.txt.\n",
      "2020-12-27 09:27:36 INFO: Problem 23:  Ship position [466, -1165, 'W'] has distance 1631.\n",
      "2020-12-27 09:27:36 INFO: Problem 24:  Ship position [57377, -1229, 'E'] has distance 58606.\n",
      "2020-12-27 09:27:36 INFO:               Way point [-92, 15] relative to ship.\n"
     ]
    }
   ],
   "source": [
    "def process_moves(lines):\n",
    "    retval = []\n",
    "    for line in lines:\n",
    "        m1 = re.match('^([NSEWLRF]{1})([\\d]+)$', line)\n",
    "        if m1 == None:\n",
    "            logging.error(\"Bad input {}\".format(line,))\n",
    "        else:\n",
    "            retval.append([m1.groups(1)[0], int(m1.groups(1)[1])])\n",
    "    return retval\n",
    "\n",
    "def move_vert(vec, val):\n",
    "    vec[1] += val\n",
    "\n",
    "def move_horz(vec, val):\n",
    "    vec[0] += val\n",
    "\n",
    "def move_forward(vec, val):\n",
    "    direc = vec[2]\n",
    "    if direc == 'N':\n",
    "        move_vert(vec, val)\n",
    "    elif direc == 'S':\n",
    "        move_vert(vec, -val)\n",
    "    elif direc == 'W':\n",
    "        move_horz(vec, -val)\n",
    "    elif direc == 'E':\n",
    "        move_horz(vec, val)\n",
    "    \n",
    "def rotate(vec, val):\n",
    "    ''' Rotate anti-clockwise '''\n",
    "    new_i = ['E','N','W','S'].index(vec[2]) + [0,90,180,270].index(val % 360)\n",
    "    vec[2] = ['E','N','W','S'][new_i % 4]\n",
    "\n",
    "def move_toward_way_point(ship, way, val):\n",
    "    ship[0] += (val * way[0])\n",
    "    ship[1] += (val * way[1])\n",
    "\n",
    "def rotate_way(vec, val):\n",
    "    ''' Rotate anti-clockwise '''\n",
    "    for i in range([0, 90, 180, 270].index(val % 360)):\n",
    "        vec[0], vec[1] =  -vec[1],  vec[0]\n",
    "\n",
    "####################################################################\n",
    "        \n",
    "lines = get_string_input('prob23.txt')\n",
    "#lines = ['F10','N3','F7','R90','F11']\n",
    "\n",
    "moves = process_moves(lines)\n",
    "\n",
    "pos = [0, 0, 'E']  # x, y, direction\n",
    "for mv in moves:\n",
    "    val = mv[1]\n",
    "    if mv[0] in ['R', 'S', 'W']:\n",
    "        val *= -1\n",
    "    if mv[0] in ['R', 'L']:\n",
    "        rotate(pos, val)\n",
    "    elif mv[0] in ['N', 'S']:\n",
    "        move_vert(pos, val)\n",
    "    elif mv[0] in ['E', 'W']:\n",
    "        move_horz(pos, val)\n",
    "    elif mv[0] == 'F':\n",
    "        move_forward(pos, val)\n",
    "logging.info(\"Problem 23:  Ship position {} has distance {}.\".format(pos,abs(pos[0]) + abs(pos[1]) ))\n",
    "\n",
    "pos = [0, 0, 'E']  # x, y, direction\n",
    "way = [10, 1]     # x, y\n",
    "for mv in moves:\n",
    "    val = mv[1]\n",
    "    if mv[0] in ['R', 'S', 'W']:\n",
    "        val *= -1\n",
    "    if mv[0] in ['R', 'L']:\n",
    "        rotate_way(way, val)\n",
    "    elif mv[0] in ['N', 'S']:\n",
    "        move_vert(way, val)\n",
    "    elif mv[0] in ['E', 'W']:\n",
    "        move_horz(way, val)\n",
    "    elif mv[0] == 'F':\n",
    "        move_toward_way_point(pos, way, mv[1])\n",
    "logging.info(\"Problem 24:  Ship position {} has distance {}.\".format(pos,abs(pos[0]) + abs(pos[1]) ))\n",
    "logging.info(\"              Way point {} relative to ship.\".format(way,))\n"
   ]
  },
  {
   "cell_type": "markdown",
   "metadata": {},
   "source": [
    "## Day 13: Shuttle Search"
   ]
  },
  {
   "cell_type": "markdown",
   "metadata": {},
   "source": [
    "### Problem 25: What is the ID of the earliest bus you can take to the airport multiplied by the number of minutes you'll need to wait for that bus?"
   ]
  },
  {
   "cell_type": "markdown",
   "metadata": {},
   "source": [
    "### Problem 26: What is the earliest timestamp such that all of the listed bus IDs depart at offsets matching their positions in the list?"
   ]
  },
  {
   "cell_type": "code",
   "execution_count": 15,
   "metadata": {},
   "outputs": [
    {
     "name": "stderr",
     "output_type": "stream",
     "text": [
      "2020-12-27 09:27:36 INFO: Got 2 lines from prob25.txt.\n",
      "2020-12-27 09:27:36 INFO: Problem 25: Bus 17 has shortest wait: 7.  Prod = 119\n",
      "2020-12-27 09:27:36 INFO: Problem 26: The earliest timestamp is 1106724616194525\n"
     ]
    }
   ],
   "source": [
    "def process_buses(lines):\n",
    "    earliest = lines[0]\n",
    "    buses = [int(x) for x in lines[1].split(',') if x != 'x']\n",
    "    return int(earliest), buses\n",
    "\n",
    "\n",
    "def process_buses_with_xs(lines):\n",
    "    return [int(x) if x != 'x' else 0 for x in lines[1].split(',')]\n",
    "\n",
    "\n",
    "def ext_euclidean_alg(a, b):  \n",
    "    ''' Return gcd(a,b) and ints x,y such that ax + by = gcd(a,b) '''\n",
    "    if a == 0 :   \n",
    "        return b, 0, 1\n",
    "    gcd, x, y = ext_euclidean_alg(b%a, a)  \n",
    "    return gcd, y - (b//a) * x, x    \n",
    "  \n",
    "def chinese_remainder_theorem(r1, m1, r2, m2):\n",
    "    ''' Return x, m where:   \n",
    "            m = lcm[m1,m2]\n",
    "            x = r1 mod (m1) and    \n",
    "            x = r2 mod (m2)\n",
    "            0 <= x < m\n",
    "    '''\n",
    "    gcd, n1, n2 = ext_euclidean_alg(m1,m2)\n",
    "    mult = (r1 - r2) // gcd\n",
    "    m = (m1*m2) // gcd \n",
    "    x = (r2 + m2*n2*mult) % m\n",
    "    return x, m\n",
    "\n",
    "#lines = ['939','7,13,x,x,59,x,31,19']\n",
    "lines = get_string_input('prob25.txt')\n",
    "\n",
    "start, buses = process_buses(lines)\n",
    "s = min(zip([-start % bus for bus in buses], buses))\n",
    "logging.info(\"Problem 25: Bus {} has shortest wait: {}.  Prod = {}\".format(s[1], s[0], s[1]*s[0]))\n",
    "\n",
    "buses = process_buses_with_xs(lines)\n",
    "r1, m1 = 0, buses[0]\n",
    "for i, m2 in enumerate(buses):\n",
    "    if i > 0 and m2 > 0:\n",
    "        r1, m1 = chinese_remainder_theorem(r1, m1, -i % m2, m2)\n",
    "\n",
    "logging.info(\"Problem 26: The earliest timestamp is {}\".format(r1,))"
   ]
  },
  {
   "cell_type": "markdown",
   "metadata": {},
   "source": [
    "## Day 14: Docking Data"
   ]
  },
  {
   "cell_type": "markdown",
   "metadata": {},
   "source": [
    "### Problem 27: What is the sum of all values left in memory after it completes?"
   ]
  },
  {
   "cell_type": "markdown",
   "metadata": {},
   "source": [
    "### Problem 28: What is the sum of all values left in memory after it completes?"
   ]
  },
  {
   "cell_type": "code",
   "execution_count": 16,
   "metadata": {},
   "outputs": [
    {
     "name": "stderr",
     "output_type": "stream",
     "text": [
      "2020-12-27 09:27:36 INFO: Got 569 lines from prob27.txt.\n",
      "2020-12-27 09:27:36 INFO: Problem 27: The sum is 5055782549997\n",
      "2020-12-27 09:27:38 INFO: Problem 28: The sum is 4795970362286\n"
     ]
    }
   ],
   "source": [
    "def get_new_mask(line):\n",
    "    retval = None\n",
    "    m1 = re.match('^mask = ([X01]{36})$', line)\n",
    "    if m1 == None:\n",
    "        logging.error(\"Bad mask:  {}\".format(line,))\n",
    "    else:\n",
    "        retval = list(m1.groups(1)[0])\n",
    "    return retval\n",
    "\n",
    "def get_mem_addr(line):\n",
    "    retval = None\n",
    "    m1 = re.match('^mem\\[([\\d]+)\\] = (\\d+)', line)\n",
    "    if m1 == None:\n",
    "        logging.error(\"Bad mem:  {}\".format(line,))\n",
    "    else:\n",
    "        retval = [int(m1.groups(1)[0]), int(m1.groups(1)[1])]\n",
    "    return retval\n",
    "\n",
    "def get_bit_array(num):\n",
    "    return [1 if x=='1' else 0 for x in \"{:036b}\".format(num,)]\n",
    "    \n",
    "def add_mask(bits, mask):\n",
    "    assert len(bits) == len(mask)\n",
    "    return [int(mask[i]) if mask[i] != 'X' else bits[i] for i in range(len(bits))]\n",
    "\n",
    "def add_mask2(bits, mask):\n",
    "    assert len(bits) == len(mask)\n",
    "    retval = [str(b) for b in bits]\n",
    "    for i, b in enumerate(mask):\n",
    "        if b in ['1', 'X']:\n",
    "            retval[i] = b\n",
    "    return retval\n",
    "\n",
    "def get_val_from_bit_list(bits):\n",
    "    retval = 0\n",
    "    for i, b in enumerate(bits):\n",
    "        if b == 1:\n",
    "            retval += 2**(len(bits)-1-i)\n",
    "    return retval\n",
    "\n",
    "def get_new_mems(bits):\n",
    "    ''' Return a list of all possible integers obtained from bits where all\n",
    "            X's are replaced with 0 or 1.\n",
    "    '''\n",
    "    retval = []\n",
    "    numX, numbits = bits.count('X'), len(bits)\n",
    "    for num in range(2**numX):\n",
    "        new_mem_loc = bits[:]\n",
    "        insert_bits = get_bit_array(num)\n",
    "        added = 0\n",
    "        for i, b in enumerate(new_mem_loc):\n",
    "            if b == 'X':\n",
    "                new_mem_loc[i] = str(insert_bits[numbits-1-added])\n",
    "                added += 1\n",
    "        retval.append(get_val_from_bit_list([int(x) for x in new_mem_loc]))\n",
    "    return retval\n",
    "\n",
    "###############################################################################\n",
    "\n",
    "lines = get_string_input('prob27.txt')\n",
    "#lines=['mask = XXXXXXXXXXXXXXXXXXXXXXXXXXXXX1XXXX0X','mem[8] = 11','mem[7] = 101','mem[8] = 0']\n",
    "\n",
    "mask, loc, val, values = None, None, None, dict()\n",
    "for line in lines:\n",
    "    if re.match('^mask = ([X01]{36})$', line) != None:\n",
    "        mask = get_new_mask(line)\n",
    "    elif re.match('^mem\\[([\\d]+)\\] = (\\d+)', line) != None:\n",
    "        loc, val = get_mem_addr(line)\n",
    "        bits = add_mask(get_bit_array(val), mask)\n",
    "        values[loc] = get_val_from_bit_list(bits)\n",
    "        \n",
    "logging.info('Problem 27: The sum is {}'.format(sum([v for v in values.values()]),))\n",
    "\n",
    "# lines = ['mask = 000000000000000000000000000000X1001X','mem[42] = 100',\n",
    "#            'mask = 00000000000000000000000000000000X0XX','mem[26] = 1']\n",
    "\n",
    "mask, loc, val, values = None, None, None, dict()\n",
    "for line in lines:\n",
    "    if re.match('^mask = ([X01]{36})$', line) != None:\n",
    "        mask = get_new_mask(line)\n",
    "    elif re.match('^mem\\[([\\d]+)\\] = (\\d+)', line) != None:\n",
    "        loc, val = get_mem_addr(line)\n",
    "        bits = add_mask2(get_bit_array(loc), mask)\n",
    "        for new_mem_loc in get_new_mems(bits):\n",
    "            values[new_mem_loc] = val\n",
    "\n",
    "logging.info('Problem 28: The sum is {}'.format(sum([v for v in values.values()]),))\n",
    "\n",
    "\n",
    "\n"
   ]
  },
  {
   "cell_type": "markdown",
   "metadata": {},
   "source": [
    "## Day 15:  Rambunctious Recitation"
   ]
  },
  {
   "cell_type": "markdown",
   "metadata": {},
   "source": [
    "### Problem 29: Given your starting numbers, what will be the 2020th number spoken?"
   ]
  },
  {
   "cell_type": "markdown",
   "metadata": {},
   "source": [
    "### Problem 30: Given your starting numbers, what will be the 30000000th number spoken?"
   ]
  },
  {
   "cell_type": "code",
   "execution_count": 17,
   "metadata": {},
   "outputs": [
    {
     "name": "stderr",
     "output_type": "stream",
     "text": [
      "2020-12-27 09:27:38 INFO: Problem 29: In round = 2020 num 866 is spoken.\n",
      "2020-12-27 09:28:01 INFO: Problem 30: In round = 30000000 num 1437692 is spoken.\n"
     ]
    }
   ],
   "source": [
    "#nums = [0,3,6]\n",
    "nums = [12,20,0,6,1,17,7]\n",
    "\n",
    "targets = [2020, 30000000]\n",
    "last = dict()\n",
    "for r, val in enumerate(nums[:-1]):\n",
    "    last[val] = r+1\n",
    "\n",
    "spoke = nums[-1]\n",
    "for r in range(len(nums), max(targets)+1):\n",
    "    if r == targets[0]:\n",
    "        logging.info(\"Problem 29: In round = {} num {} is spoken.\".format(r, spoke))\n",
    "    elif r == targets[1]:\n",
    "        logging.info(\"Problem 30: In round = {} num {} is spoken.\".format(r, spoke))\n",
    "\n",
    "    next_spoke = 0 if last.get(spoke, None) == None else r - last[spoke]\n",
    "    last[spoke] = r\n",
    "    spoke = next_spoke\n"
   ]
  },
  {
   "cell_type": "markdown",
   "metadata": {},
   "source": [
    "## Day 16:  Ticket Translation"
   ]
  },
  {
   "cell_type": "markdown",
   "metadata": {},
   "source": [
    "### Problem 31: What is your ticket scanning error rate?"
   ]
  },
  {
   "cell_type": "markdown",
   "metadata": {},
   "source": [
    "### Problem 32: Once you work out which field is which, look for the six fields on your ticket that start with the word departure. What do you get if you multiply those six values together?"
   ]
  },
  {
   "cell_type": "code",
   "execution_count": 18,
   "metadata": {},
   "outputs": [
    {
     "name": "stderr",
     "output_type": "stream",
     "text": [
      "2020-12-27 09:28:01 INFO: Got 263 lines from prob31.txt.\n",
      "2020-12-27 09:28:01 INFO: Problem 31: Scanning error rate = 22057\n",
      "2020-12-27 09:28:01 INFO: Problem 32: Product = 1093427331937\n"
     ]
    }
   ],
   "source": [
    "def get_class_def(line):\n",
    "    retval = None\n",
    "    m1 = re.match('^(.*): (\\d+)-(\\d+) or (\\d+)-(\\d+)$', line)\n",
    "    if m1 == None:\n",
    "        logging.error(\"Line is not a class definition:  '{}'\".format(line,))\n",
    "    else:\n",
    "        retval = [m1.groups(1)[0], [int(x) for x in m1.groups(1)[1:3]], [int(x) for x in m1.groups(1)[3:5]]]\n",
    "    return retval\n",
    "\n",
    "def process_ticket_input(lines):\n",
    "    classes, myTicket, tickets = dict(), None, []\n",
    "    state = 'get_classes'\n",
    "    for line in lines:\n",
    "        if line == '':\n",
    "            state = None\n",
    "        elif state == 'get_classes':\n",
    "            cls = get_class_def(line)\n",
    "            if cls != None:\n",
    "                classes[cls[0]] = [cls[1], cls[2]]\n",
    "        elif re.match('^your ticket:$', line) != None:\n",
    "            state = 'get_ticket'\n",
    "        elif state == 'get_ticket':\n",
    "            myTicket = [int(x) for x in line.split(',')]\n",
    "        elif re.match('^nearby tickets:$', line) != None:\n",
    "            state = 'get_nearby'\n",
    "        elif state == 'get_nearby':\n",
    "            tickets.append([int(x) for x in line.split(',')])\n",
    "        \n",
    "    return classes, myTicket, tickets\n",
    "\n",
    "\n",
    "def is_value_in_class(val, ranges):\n",
    "    return any([r[0] <= val and val <= r[1] for r in ranges])    \n",
    "\n",
    "def is_valid_ticket_val(val, cls):\n",
    "    return any([is_value_in_class(val, cls[cl]) for cl in cls])\n",
    "\n",
    "def is_valid_col(col, ranges, tickets):\n",
    "    return all([is_value_in_class(t[col], ranges) for t in tickets])\n",
    "\n",
    "\n",
    "    \n",
    "lines = get_string_input('prob31.txt')\n",
    "#lines = ['class: 1-3 or 5-7','row: 6-11 or 33-44','seat: 13-40 or 45-50','',\\\n",
    "# 'your ticket:','7,1,14','','nearby tickets:','7,3,47','40,4,50','55,2,20','38,6,12']\n",
    "#lines = ['class: 0-1 or 4-19','row: 0-5 or 8-19','seat: 0-13 or 16-19','',\\\n",
    "# 'your ticket:','11,12,13','','nearby tickets:','3,9,18','15,1,5','5,14,9']\n",
    "\n",
    "cls, myTicket, tickets = process_ticket_input(lines)\n",
    "n = len(cls)\n",
    "\n",
    "# Count number of invalid values and create valid_tickets.\n",
    "scanning_error_rate = 0\n",
    "valids = []\n",
    "for t in tickets:\n",
    "    s_e_r = sum([val for val in t if not is_valid_ticket_val(val, cls)])\n",
    "    scanning_error_rate += s_e_r\n",
    "    if s_e_r == 0:\n",
    "        valids.append(t)  # Save ticket for problem 32.\n",
    "logging.info(\"Problem 31: Scanning error rate = {}\".format(scanning_error_rate,))\n",
    "        \n",
    "# Get the possible columns that work for each class\n",
    "options = dict()\n",
    "for cl in cls.keys():\n",
    "    options[cl] = set([col for col in range(n) if is_valid_col(col, cls[cl], valids)])\n",
    "\n",
    "# Iteratively assign columns to classes if only 1 possible column exists.\n",
    "#  Remove assigned column from all possible-values of remaining classes.\n",
    "assigned = dict()\n",
    "while len(options) > 0:\n",
    "    for cl in sorted(options.keys(), key = lambda x: options[x]):\n",
    "        if len(options[cl]) == 1:\n",
    "            remove_val = options.pop(cl).pop()\n",
    "            assigned[cl] = remove_val\n",
    "            for cl2 in options:\n",
    "                options[cl2].discard(remove_val)\n",
    "\n",
    "result = 1\n",
    "for cl, index in assigned.items():\n",
    "    if re.match('^departure.*$', cl) != None:\n",
    "        result *= myTicket[index]\n",
    "logging.info('Problem 32: Product = {}'.format(result, ))"
   ]
  },
  {
   "cell_type": "markdown",
   "metadata": {},
   "source": [
    "## Day 17: Conway Cubes"
   ]
  },
  {
   "cell_type": "markdown",
   "metadata": {},
   "source": [
    "### Problem 33:  How many cubes are left in the active state after the sixth cycle?"
   ]
  },
  {
   "cell_type": "markdown",
   "metadata": {},
   "source": [
    "### Problem 34: Starting with your given initial configuration, simulate six cycles in a 4-dimensional space. How many cubes are left in the active state after the sixth cycle?"
   ]
  },
  {
   "cell_type": "code",
   "execution_count": 19,
   "metadata": {},
   "outputs": [
    {
     "name": "stderr",
     "output_type": "stream",
     "text": [
      "2020-12-27 09:28:01 INFO: Got 8 lines from prob33.txt.\n",
      "2020-12-27 09:28:02 INFO: Problem 33: Number of active after six rounds is 267.\n",
      "2020-12-27 09:28:02 INFO: Got 8 lines from prob33.txt.\n",
      "2020-12-27 09:28:29 INFO: Problem 34: Number of active after six rounds is 1812.\n"
     ]
    }
   ],
   "source": [
    "def get_adj_active(L, center):\n",
    "    retval = 0\n",
    "    if len(center) == 3:\n",
    "        for v in tt.product(np.arange(-1,2), np.arange(-1,2), np.arange(-1,2)):\n",
    "            if l1_norm(v) > 0 and tuple(vector_sum(center,v)) in L:\n",
    "                retval += 1\n",
    "    elif len(center) == 4:\n",
    "        for v in tt.product(np.arange(-1,2), np.arange(-1,2), np.arange(-1,2), np.arange(-1,2)):\n",
    "            if l1_norm(v) > 0 and tuple(vector_sum(center,v)) in L:\n",
    "                retval += 1\n",
    "    return retval\n",
    "\n",
    "\n",
    "def step(L, dim=3):\n",
    "    retval = set()\n",
    "    xs, ys, zs = [p[0] for p in L], [p[1] for p in L], [p[2] for p in L]\n",
    "    minx, maxx = min(xs), max(xs)\n",
    "    miny, maxy = min(ys), max(ys)\n",
    "    minz, maxz = min(zs), max(zs)\n",
    "        \n",
    "    if dim == 3:\n",
    "        for new_p in tt.product(np.arange(minx-1,maxx+2), \n",
    "                                np.arange(miny-1,maxy+2), \n",
    "                                np.arange(minz-1,maxz+2)):\n",
    "            adj = get_adj_active(L, new_p)\n",
    "            if new_p not in L and adj == 3:\n",
    "                retval.add(new_p)\n",
    "            elif new_p in L and adj in [2,3]:\n",
    "                retval.add(new_p)\n",
    "\n",
    "    if dim == 4:\n",
    "        ws = [p[3] for p in L]\n",
    "        minw, maxw = min(ws), max(ws)\n",
    "        for new_p in tt.product(np.arange(minx-1,maxx+2), \n",
    "                                np.arange(miny-1,maxy+2), \n",
    "                                np.arange(minz-1,maxz+2),\n",
    "                                np.arange(minw-1,maxw+2)):\n",
    "            adj = get_adj_active(L, new_p)\n",
    "            if new_p not in L and adj == 3:\n",
    "                retval.add(new_p)\n",
    "            elif new_p in L and adj in [2,3]:\n",
    "                retval.add(new_p)\n",
    "        \n",
    "    return retval\n",
    "\n",
    "\n",
    "lines = get_string_input('prob33.txt')\n",
    "lattice = set()\n",
    "for y, line in enumerate(reversed(lines)):\n",
    "    for x, ch in enumerate(line):\n",
    "        if ch == '#':\n",
    "            lattice.add(tuple([x,y,0]))\n",
    "        \n",
    "for _ in range(6):\n",
    "    lattice = step(lattice)\n",
    "logging.info(\"Problem 33: Number of active after six rounds is {}.\".format(len(lattice),))\n",
    "\n",
    "\n",
    "lines = get_string_input('prob33.txt')\n",
    "lattice = set()\n",
    "for y, line in enumerate(reversed(lines)):\n",
    "    for x, ch in enumerate(line):\n",
    "        if ch == '#':\n",
    "            lattice.add(tuple([x,y,0,0]))\n",
    "        \n",
    "for _ in range(6):\n",
    "    lattice = step(lattice, dim=4)\n",
    "logging.info(\"Problem 34: Number of active after six rounds is {}.\".format(len(lattice),))\n"
   ]
  },
  {
   "cell_type": "markdown",
   "metadata": {},
   "source": [
    "## Day 18: Operation Order"
   ]
  },
  {
   "cell_type": "markdown",
   "metadata": {},
   "source": [
    "### Problem 35: Evaluate the expression on each line of the homework; what is the sum of the resulting values?"
   ]
  },
  {
   "cell_type": "markdown",
   "metadata": {},
   "source": [
    "### Problem 36: What do you get if you add up the results of evaluating the homework problems using these new rules?"
   ]
  },
  {
   "cell_type": "code",
   "execution_count": 20,
   "metadata": {},
   "outputs": [
    {
     "name": "stderr",
     "output_type": "stream",
     "text": [
      "2020-12-27 09:28:29 INFO: Got 374 lines from prob35.txt.\n",
      "2020-12-27 09:28:29 INFO: Problem 35: The sum of the evaluated lines is 12956356593940.\n",
      "2020-12-27 09:28:29 INFO: Problem 36: The sum of the evaluated lines is 94240043727614.\n"
     ]
    }
   ],
   "source": [
    "def evaluate(s, pref = None):\n",
    "    # look for parentheses and do those first\n",
    "    while s.count(')') > 0: \n",
    "        cl_paren = s.index(')')      # Do first occurrence of ')'\n",
    "        op_paren = s[:cl_paren].rindex('(')  # Matching '(' paren\n",
    "        evald = evaluate(s[op_paren+1:cl_paren], pref)\n",
    "        s = \"{}{}{}\".format(s[:op_paren], evald, s[cl_paren+1:])\n",
    "    \n",
    "    # s should have no parentheses now\n",
    "    if pref != None:\n",
    "        while s.count(pref) > 0:\n",
    "            m1 = re.match(\"^(.*?)(\\d+ \\{} \\d+)(.*)$\".format(pref), s)\n",
    "            s = \"{}{}{}\".format(m1.groups(1)[0], eval(m1.groups(1)[1]), m1.groups(1)[2])\n",
    "\n",
    "    while s.count('+') + s.count('*') > 0:\n",
    "        m1 = re.match(\"(\\d+ [\\+\\*]{1} \\d+)(.*)$\", s)\n",
    "        s = \"{}{}\".format(eval(m1.groups(1)[0]), m1.groups(1)[1])\n",
    "\n",
    "    return s\n",
    "\n",
    "###############################################################################\n",
    "\n",
    "lines = get_string_input('prob35.txt')\n",
    "sum35, sum36 = 0, 0\n",
    "for line in lines:\n",
    "    sum35 += int(evaluate(line))\n",
    "    sum36 += int(evaluate(line, '+'))\n",
    "logging.info(\"Problem 35: The sum of the evaluated lines is {}.\".format(sum35,))\n",
    "logging.info(\"Problem 36: The sum of the evaluated lines is {}.\".format(sum36,))\n"
   ]
  },
  {
   "cell_type": "markdown",
   "metadata": {},
   "source": [
    "## Day 19: Monster Messages"
   ]
  },
  {
   "cell_type": "markdown",
   "metadata": {},
   "source": [
    "### Problem 37:  How many messages completely match rule 0?"
   ]
  },
  {
   "cell_type": "markdown",
   "metadata": {},
   "source": [
    "### Problem 38:  After updating rules 8 and 11, how many messages completely match rule 0?"
   ]
  },
  {
   "cell_type": "code",
   "execution_count": 21,
   "metadata": {},
   "outputs": [
    {
     "name": "stderr",
     "output_type": "stream",
     "text": [
      "2020-12-27 09:28:29 INFO: Got 631 lines from prob37.txt.\n",
      "2020-12-27 09:28:30 INFO: Problem 37: The number of messages that match rule 0 is 220.\n",
      "2020-12-27 09:28:32 INFO: Problem 38: The number of messages that match rule 0 is 439.\n"
     ]
    }
   ],
   "source": [
    "def get_string_input(filename):\n",
    "    retval = None\n",
    "    with open(filename) as IN:\n",
    "        retval = IN.read().splitlines()\n",
    "    logging.info(\"Got {} lines from {}.\".format(len(retval),filename))\n",
    "    return retval\n",
    "\n",
    "\n",
    "def get_syntax_and_messages(lines):\n",
    "    ''' Parse input and return two structures: syntax and messages\n",
    "            syntax[rule] = [ rule_list1, rule_list2 ]\n",
    "             - eg input line = \"7: 99 32 | 24 86\" --> syntax[7] = [[99,32], [24,86]]\n",
    "            message is a list of strings\n",
    "    '''\n",
    "    rule_re = re.compile('^(\\d+): (.*)$')\n",
    "    state = 'syntax'\n",
    "    syntax = dict()\n",
    "    for i, line in enumerate(lines):\n",
    "        m1 = rule_re.match(line)\n",
    "        if state == 'syntax' and m1 == None:\n",
    "            state = 'messages'\n",
    "        elif state == 'syntax':\n",
    "            key, subrules = m1.groups(1)\n",
    "            if subrules == '\"a\"':\n",
    "                syntax[key] = [['a']]  # easier to keep this as a list\n",
    "            elif subrules == '\"b\"':\n",
    "                syntax[key] = [['b']]\n",
    "            else:\n",
    "                syntax[key] = [s.split(' ') for s in subrules.split(' | ')]\n",
    "        elif state == 'messages':\n",
    "            messages = lines[i:]\n",
    "            break\n",
    "    return syntax, messages\n",
    "\n",
    "\n",
    "def get_matched_for_list(message, rule_list, syntax):\n",
    "    '''  Return a set of valid message[:k] that match the given rule_list\n",
    "            message   = a string;  e.g.  'ababaaab'\n",
    "            rule_list = a list of integers;  e.g. [8, 11] or [4]\n",
    "            syntax    = dict containing rules;  syntax[rule_num] = [ rule_list1, rule_list2 ]\n",
    "    '''\n",
    "    retval = set()\n",
    "    # get matches for first rule\n",
    "    prefixes = get_matched_for_rule(message, rule_list[0], syntax)\n",
    "    if len(rule_list) == 1:\n",
    "        # if list contains 1 rule, return the matches found\n",
    "        retval = prefixes\n",
    "    else:\n",
    "        # list contains more rules.\n",
    "        # For each prefix already found, remove it from message and try to match rest\n",
    "        #   of rule_list to the remaining message.  Then add prefix to each suffix and\n",
    "        #   add resulting string to retval as a match for the rule_list\n",
    "        for p in prefixes:\n",
    "            suffixes = get_matched_for_list(message[len(p):], rule_list[1:], syntax)\n",
    "            for s in suffixes:\n",
    "                retval.add(p + s)\n",
    "    return retval\n",
    "\n",
    "\n",
    "def get_matched_for_rule(message, rule, syntax):\n",
    "    '''  Return a set of valid message[:k] that match the given rule\n",
    "            message   = a string;  e.g.  'ababaaab'\n",
    "            rule_list = a list of integers;  e.g. [8, 11] or [4]\n",
    "            syntax    = dict containing rules;  syntax[rule_num] = [ rule_list1, rule_list2 ]\n",
    "    '''\n",
    "    retval = set()\n",
    "    if len(message) == 0:\n",
    "        pass\n",
    "    elif rule in [\"a\", \"b\"]:\n",
    "        # If rule is a string char that matches first char of message, return it.\n",
    "        if message[0] == rule:\n",
    "            retval.add(rule)\n",
    "        # else chars don't match, return empty set\n",
    "    else:\n",
    "        # rule is a number, attempt to match message to each rule_list in syntax[rule]\n",
    "        for rule_list in syntax[rule]:\n",
    "            retval = retval.union(get_matched_for_list(message, rule_list, syntax))\n",
    "    return retval\n",
    "\n",
    "#######################################################################################\n",
    "\n",
    "lines = get_string_input('prob37.txt')\n",
    "syntax, messages = get_syntax_and_messages(lines)\n",
    "\n",
    "match_count = 0\n",
    "match_count = sum([m in get_matched_for_rule(m, '0', syntax) for m in messages])\n",
    "logging.info(\"Problem 37: The number of messages that match rule 0 is {}.\".format(match_count,))\n",
    "\n",
    "# Change rules per problem description for Problem 38\n",
    "syntax['8'] = [['42'], ['42','8']]\n",
    "syntax['11'] = [['42', '31'], ['42','11','31']]\n",
    "match_count = sum([m in get_matched_for_rule(m, '0', syntax) for m in messages])\n",
    "logging.info(\"Problem 38: The number of messages that match rule 0 is {}.\".format(match_count,))\n"
   ]
  },
  {
   "cell_type": "markdown",
   "metadata": {},
   "source": [
    "## Day 20: Jurassic Jigsaw"
   ]
  },
  {
   "cell_type": "markdown",
   "metadata": {},
   "source": [
    "### Problem 39: What do you get if you multiply together the IDs of the four corner tiles?"
   ]
  },
  {
   "cell_type": "markdown",
   "metadata": {},
   "source": [
    "### Problem 40: How many # are not part of a sea monster?"
   ]
  },
  {
   "cell_type": "code",
   "execution_count": 22,
   "metadata": {
    "scrolled": true
   },
   "outputs": [
    {
     "name": "stderr",
     "output_type": "stream",
     "text": [
      "2020-12-27 09:28:32 INFO: Got 1727 lines from prob39.txt.\n",
      "2020-12-27 09:28:32 INFO: Problem 39: The product of the four corners is 17032646100079.\n",
      "2020-12-27 09:28:32 INFO: Problem 40: The number of '#' not part of seamonsters is 2006.\n"
     ]
    }
   ],
   "source": [
    "class Tile:\n",
    "    def __init__(self, tileId, face):\n",
    "        self.tileId = tileId  #integer\n",
    "        self.face = face      #face[x][y] in ['.', '#']\n",
    "        self.d = len(face[0])\n",
    "        self.edgeNums = []\n",
    "        self.orientation = 0  # index of [e, r, r^2, r^3, sr, sr^2, sr^3, s]\n",
    "        self.set_tile_values()\n",
    "        # mult on right by sr^3  moves top to left\n",
    "        # so if g = left_index on top, then g*sr^3 = left_index on left\n",
    "        self.left_top_transposition = [6, 5, 4, 7, 2, 1, 0, 3]\n",
    "        # if top at x, left_side at left_top_transposition[x]\n",
    "        # if left at x, top_side at left_top_transposition[x]\n",
    "\n",
    "    ############################################################################\n",
    "\n",
    "    def rotate(self):\n",
    "        ''' Rotates piece by 90 degrees (clockwise) '''\n",
    "        new_face = []\n",
    "        for col in range(self.d):\n",
    "            row = ''.join([self.face[r][col] for r in np.arange(self.d-1, -1, -1)])\n",
    "            new_face.append(row)\n",
    "        self.face = new_face\n",
    "        self.orientation += 1\n",
    "        if self.orientation % 4 == 0:\n",
    "            self.orientation -= 4\n",
    "\n",
    "    ############################################################################\n",
    "            \n",
    "    def flip(self):\n",
    "        '''This function works a lot like the rotate function'''\n",
    "        self.face = [''.join(reversed(self.face[r])) for r in range(self.d)]\n",
    "        self.orientation = 7 - self.orientation\n",
    "\n",
    "    ############################################################################\n",
    "\n",
    "    def output(self):\n",
    "        logging.info(\"\\n     {}\\n\".format('\\n     '.join(self.face),))                     \n",
    "\n",
    "    ############################################################################\n",
    "\n",
    "    def get_top_row_val(self):\n",
    "        return sum([2**(9-i) for i, val in enumerate(self.face[0]) if val == '#'])\n",
    "\n",
    "    ############################################################################\n",
    "\n",
    "    def get_bottom_row_val(self):\n",
    "        return self.edgeNums[ [5, 4, 7, 6, 1, 0, 3, 2][self.orientation] ]\n",
    "    \n",
    "    ############################################################################\n",
    "\n",
    "    def get_left_side_val(self):\n",
    "        return self.edgeNums[ [6, 5, 4, 7, 2, 1, 0, 3][ self.orientation ] ]\n",
    "    \n",
    "    ############################################################################\n",
    "\n",
    "    def get_right_side_val(self):\n",
    "        return self.edgeNums[ [3, 0, 1, 2, 7, 4, 5, 6][self.orientation] ]\n",
    "    \n",
    "    ############################################################################\n",
    "\n",
    "    def set_tile_values(self):\n",
    "        # Get values for [e, r, r^2, r^3, sr, sr^2, sr^3, s]\n",
    "        for _ in range(8):\n",
    "            self.edgeNums.append(self.get_top_row_val())\n",
    "            self.step()\n",
    "\n",
    "    ############################################################################\n",
    "\n",
    "    def step(self):\n",
    "        if (self.orientation + 1) % 4 == 0:\n",
    "            self.flip()\n",
    "        else:\n",
    "            self.rotate()\n",
    "                \n",
    "    ############################################################################\n",
    "\n",
    "    def fit_tile(self, left, top, all_sides):\n",
    "        retval = False\n",
    "        #Try to flip and rotate tile to get left and top sides to match left and top\n",
    "        if left in self.edgeNums and top in self.edgeNums:\n",
    "            while self.orientation != self.edgeNums.index(top):\n",
    "                self.step()\n",
    "            if self.get_left_side_val() == left:\n",
    "                retval = True\n",
    "\n",
    "        elif top in self.edgeNums and left == None:\n",
    "            while self.orientation != self.edgeNums.index(top):\n",
    "                self.step()\n",
    "            if all_sides[ self.get_left_side_val() ] == 1:\n",
    "                retval = True\n",
    "\n",
    "        elif left in self.edgeNums and top == None:\n",
    "            left_val_index = self.edgeNums.index(left)  # index of left value\n",
    "            top_index = self.left_top_transposition[ left_val_index ]\n",
    "            while self.orientation != top_index:\n",
    "                self.step()\n",
    "            if all_sides[ self.get_top_row_val() ] == 1:\n",
    "                retval = True\n",
    "\n",
    "        elif left == None and top == None:\n",
    "            for _ in range(8):\n",
    "                top_val_count = all_sides[ self.get_top_row_val() ]\n",
    "                left_side_count = all_sides[ self.get_left_side_val() ]\n",
    "                if top_val_count == 1 and left_side_count == 1:\n",
    "                    retval = True\n",
    "                    break\n",
    "                else:\n",
    "                    self.step()\n",
    "\n",
    "        return retval\n",
    " \n",
    "\n",
    "    ############################################################################\n",
    "\n",
    "    def strip_border(self):\n",
    "        ''' Return tile with edges of face removed. '''\n",
    "        return Tile(self.tileId, [ self.face[r][1:-1] for r in range(1,self.d-1) ])\n",
    "                \n",
    "    ############################################################################\n",
    "\n",
    "    def is_seamonster(self, row, col):\n",
    "        ''' Find pattern below beginning where [row, col] is the left-most \"O\"'''\n",
    "        #   .#.#...#.###...#.##.O#..\n",
    "        #   #.O.##.OO#.#.OO.##.OOO##\n",
    "        #   ..#O.#O#.O##O..O.#O##.##\n",
    "        retval = False\n",
    "        if row > 0 and row < self.d - 1 and col < self.d - 19:\n",
    "            retval = True\n",
    "            for x, y in [[0,0],[1,-1],[4,-1],[5,0],[6,0],[7,-1],[10,-1],[11,0],\n",
    "                         [12,0],[13,-1],[16,-1],[17,0],[18,0],[18,1],[19,0]]:\n",
    "                if self.face[row - y][col + x] != '#':\n",
    "                    retval = False\n",
    "                    break\n",
    "        return retval\n",
    "        \n",
    "    ############################################################################\n",
    "\n",
    "    def find_seamonsters(self):\n",
    "        ''' Return count of seamonsters found in every orientation of tile. '''\n",
    "        retval = 0\n",
    "        for step_count in range(8):\n",
    "            for row in range(self.d):\n",
    "                for col in range(self.d):\n",
    "                    if self.is_seamonster(row, col) == True:\n",
    "                        retval += 1\n",
    "            self.step()\n",
    "        return retval\n",
    "\n",
    "    ############################################################################\n",
    "\n",
    "    def count_hashtags(self):\n",
    "        return sum([self.face[r].count('#') for r in range(self.d)])\n",
    "    \n",
    "    ############################################################################\n",
    "\n",
    "####################################################################################\n",
    "        \n",
    "def process_tiles(lines):\n",
    "    retval = dict()\n",
    "    state = None\n",
    "    for line in lines:\n",
    "        m1 = re.match('Tile (\\d+):$', line)\n",
    "        if m1 != None:\n",
    "            tileId = int(m1.groups(1)[0])\n",
    "            state = 'tile'\n",
    "            tile = [] \n",
    "        elif re.match('^\\s*$', line) != None:\n",
    "            retval[tileId] = Tile(tileId, tile) \n",
    "            state = None\n",
    "            tile = [] \n",
    "        elif state == 'tile':\n",
    "            tile.append(line)\n",
    "\n",
    "    if len(tile) > 0:\n",
    "        retval[tileId] = Tile(tileId, tile) \n",
    "\n",
    "    return retval\n",
    "\n",
    "\n",
    "def count_edges(tiles):\n",
    "    ''' Return a dictionary containing the counts among all tiles of occurrences\n",
    "            of edgeNums.\n",
    "        retval[edgeNum] = number of edges having edgeNum    \n",
    "    '''\n",
    "    retval = dict()\n",
    "    for tid in tiles:\n",
    "        for s in tiles[tid].edgeNums:\n",
    "            if retval.get(s, None) == None:\n",
    "                retval[s] = 0\n",
    "            retval[s] += 1\n",
    "    return retval\n",
    "\n",
    "    \n",
    "def assemble_grid(tiles):\n",
    "    ''' Return list of lists with each sublist a list of Tile() objects.\n",
    "         The tiles are assembled in retval in rows, each row from left to right.\n",
    "         For a tile to be added, the edges must match on the left and above.\n",
    "         Tiles on the top row must have an edge that is unique among tiles.\n",
    "         Tiles on the left edge must have an edge that is unique among tiles.\n",
    "         \n",
    "         This construction assumes a solution exists and that pieces only \"fit\"\n",
    "         in one way... i.e. no recursion is necessary... i.e.  greedy construction.\n",
    "    '''\n",
    "    retval = []\n",
    "    # all_sides[edgeNum] = number of times edgeNum observed among all tiles\n",
    "    all_sides = count_edges(tiles)\n",
    "    \n",
    "    # assuming tiles arranged in square grid\n",
    "    grid_dim = int(math.sqrt(len(tiles)))\n",
    "    used = set()  # Store used tiles.\n",
    "\n",
    "    for row in range(grid_dim):\n",
    "        retval.append([])\n",
    "        for col in range(grid_dim):\n",
    "            top  = None if (row == 0) else retval[row-1][col].get_bottom_row_val()\n",
    "            left = None if (col == 0) else retval[row][col-1].get_right_side_val()\n",
    "            fit = False\n",
    "            for tid in tiles:\n",
    "                if tid not in used and tiles[tid].fit_tile(left, top, all_sides) == True:\n",
    "                    retval[row].append(tiles[tid])\n",
    "                    used.add(tid)\n",
    "                    fit = True\n",
    "                    break\n",
    "            if fit == False:\n",
    "                logging.error(\"No fit\")\n",
    "                raise\n",
    "\n",
    "    return retval\n",
    "\n",
    "##########################################################################################\n",
    "\n",
    "lines = get_string_input('prob39.txt')\n",
    "\n",
    "tiles = process_tiles(lines)  # tiles[tileId] = Tile()\n",
    "grid = assemble_grid(tiles)   # grid[row][col] = Tile()\n",
    "\n",
    "prob39 = grid[0][0].tileId * grid[0][-1].tileId * grid[-1][0].tileId * grid[-1][-1].tileId\n",
    "logging.info(\"Problem 39: The product of the four corners is {}.\".format(prob39,))\n",
    "\n",
    "large_face = [ '' ] * (len(grid) * (grid[0][0].d - 2))\n",
    "for row in range(len(grid)):\n",
    "    for col in range(len(grid)):\n",
    "        new_tile = grid[row][col].strip_border()\n",
    "        # add rows of new_tile to larger face\n",
    "        for r in range(new_tile.d):\n",
    "            large_face[row * new_tile.d + r] += new_tile.face[r]\n",
    "\n",
    "large_tile = Tile(777, large_face)\n",
    "prob40 = large_tile.count_hashtags() - (15*large_tile.find_seamonsters())\n",
    "logging.info(\"Problem 40: The number of '#' not part of seamonsters is {}.\".format(prob40,))\n"
   ]
  },
  {
   "cell_type": "markdown",
   "metadata": {},
   "source": [
    "## Day 21: Allergen Assessment"
   ]
  },
  {
   "cell_type": "markdown",
   "metadata": {},
   "source": [
    "### Problem 41: How many times do any of the safe ingredients appear?"
   ]
  },
  {
   "cell_type": "markdown",
   "metadata": {},
   "source": [
    "### Problem 42: What is your canonical dangerous ingredient list?"
   ]
  },
  {
   "cell_type": "code",
   "execution_count": 23,
   "metadata": {},
   "outputs": [
    {
     "name": "stderr",
     "output_type": "stream",
     "text": [
      "2020-12-27 09:28:32 INFO: Got 30 lines from prob41.txt.\n",
      "2020-12-27 09:28:32 INFO: Problem 41: Safe Ingredients listed 1679 times.\n",
      "2020-12-27 09:28:32 INFO: Problem 42: Dangerous ingredients list: lmxt,rggkbpj,mxf,gpxmf,nmtzlj,dlkxsxg,fvqg,dxzq\n"
     ]
    }
   ],
   "source": [
    "def process_allergens(lines):\n",
    "    retval = []\n",
    "    for line in lines:\n",
    "        m1 = re.match('(.*) \\(contains (.*)\\)', line)\n",
    "        if m1 == None:\n",
    "            logging.error(\"Could not parse line.\")\n",
    "        else:\n",
    "            retval.append([set(m1.groups(1)[0].split(' ')), \n",
    "                           set(m1.groups(1)[1].split(', '))])\n",
    "    return retval\n",
    "\n",
    "#############################################################################\n",
    "\n",
    "#lines = get_string_input('prob41test.txt')\n",
    "lines = get_string_input('prob41.txt')\n",
    "data = process_allergens(lines)  # data = [[stuffs, ]]\n",
    "\n",
    "# Get solution, sol[allg] = set(possible stuff)\n",
    "sol = dict()\n",
    "for stuffs, allgs in data:\n",
    "    for allg in allgs:\n",
    "        if sol.get(allg, None) == None:\n",
    "            sol[allg] = stuffs\n",
    "        else:\n",
    "            sol[allg] = sol[allg].intersection(stuffs)\n",
    "\n",
    "\n",
    "# Iteratively determine which stuff contains which allg\n",
    "done = False\n",
    "while not done:\n",
    "    done = True\n",
    "    for allg in sorted(sol.keys(), key = lambda x: len(sol[x])):\n",
    "        if len(sol[allg]) != 1:\n",
    "            done = False   # Iterate until all allgs have one stuff\n",
    "        else:   # stuff contains allg\n",
    "            # Remove stuff from other allg sets.\n",
    "            stuff = list(sol[allg])[0] \n",
    "            for a in sol.keys():\n",
    "                if a != allg:\n",
    "                    sol[a].discard(stuff)\n",
    "\n",
    "\n",
    "allStuffs = set.union(*[stuffs for stuffs, _ in data])\n",
    "unsafeStuffs = set.union(*[sol[allg] for allg in sol.keys() if len(sol[allg]) == 1])\n",
    "safeStuffs = allStuffs.difference(unsafeStuffs)\n",
    "safeCount = sum([len(safeStuffs.intersection(stuffs)) for stuffs, _ in data])\n",
    "logging.info(\"Problem 41: Safe Ingredients listed {} times.\".format(safeCount,))\n",
    "        \n",
    "unsafeList = ','.join([list(sol[x])[0] for x in sorted(sol.keys())])\n",
    "logging.info(\"Problem 42: Dangerous ingredients list: {}\".format(unsafeList,))"
   ]
  },
  {
   "cell_type": "markdown",
   "metadata": {},
   "source": [
    "## Day 22: Crab Combat"
   ]
  },
  {
   "cell_type": "markdown",
   "metadata": {},
   "source": [
    "### Problem 43:  In Combat, what is the winning player's score?"
   ]
  },
  {
   "cell_type": "markdown",
   "metadata": {},
   "source": [
    "### Problem 44:  In Recursive Combat, what is the winning player's score?"
   ]
  },
  {
   "cell_type": "code",
   "execution_count": 24,
   "metadata": {},
   "outputs": [
    {
     "name": "stderr",
     "output_type": "stream",
     "text": [
      "2020-12-27 09:28:32 INFO: Got 53 lines from prob43.txt.\n",
      "2020-12-27 09:28:32 INFO: Problem 43: Player 1 wins Combat with a score of 31308.\n",
      "2020-12-27 09:28:50 INFO: Problem 44: Player 1 wins Recursive Combat with a score of 33647.\n"
     ]
    }
   ],
   "source": [
    "def process_cards(lines):\n",
    "    player = -1\n",
    "    decks = [ [], [] ]\n",
    "    for line in lines:\n",
    "        m1 = re.match('^Player .*$', line)\n",
    "        if m1 != None:\n",
    "            player += 1\n",
    "        elif re.match('^$', line) == None:\n",
    "            decks[player].append(int(line))\n",
    "    return decks\n",
    "\n",
    "def get_deck_state(d0, d1):\n",
    "    return \"{}|{}\".format(','.join([str(x) for x in d0]), ','.join([str(x) for x in d1]))\n",
    "\n",
    "def war(d0, d1, recursive = False):\n",
    "    states = set()\n",
    "    winner = None\n",
    "    while winner == None:\n",
    "        state = get_deck_state(d0, d1)\n",
    "        if recursive and state in states:\n",
    "            winner = 0\n",
    "        elif len(d0) == 0:\n",
    "            winner = 1\n",
    "        elif len(d1) == 0:\n",
    "            winner = 0\n",
    "        else:\n",
    "            states.add(state)\n",
    "            mine, crab = d0[0], d1[0]\n",
    "            d0, d1 = d0[1:], d1[1:]\n",
    "\n",
    "            if recursive and mine <= len(d0) and crab <= len(d1):\n",
    "                round_winner, _, _ = war(d0[:mine], d1[:crab], recursive)\n",
    "            else:\n",
    "                round_winner = 0 if mine > crab else 1\n",
    "            \n",
    "            d0.extend([mine, crab]) if round_winner == 0 else d1.extend([crab, mine]) \n",
    "        # break if winner != None\n",
    "    return winner, d0, d1\n",
    "\n",
    "#############################################################################\n",
    "\n",
    "lines = get_string_input('prob43.txt')\n",
    "\n",
    "decks = process_cards(lines)\n",
    "winner, decks[0], decks[1] = war(decks[0], decks[1], False)\n",
    "score = sum([(len(decks[winner]) - i) * val for i, val in enumerate(decks[winner]) ])\n",
    "logging.info(\"Problem 43: Player {} wins Combat with a score of {}.\".format(winner+1, score))\n",
    "\n",
    "decks = process_cards(lines)\n",
    "winner, decks[0], decks[1] = war(decks[0], decks[1], True)\n",
    "score = sum([(len(decks[winner]) - i) * val for i, val in enumerate(decks[winner]) ])\n",
    "logging.info(\"Problem 44: Player {} wins Recursive Combat with a score of {}.\".format(winner+1, score))\n",
    "\n"
   ]
  },
  {
   "cell_type": "markdown",
   "metadata": {},
   "source": [
    "## Day 23:  Crab Cups"
   ]
  },
  {
   "cell_type": "markdown",
   "metadata": {},
   "source": [
    "### Problem 45:  After 100 moves, what order are the cups in?"
   ]
  },
  {
   "cell_type": "markdown",
   "metadata": {},
   "source": [
    "### Problem 46: After 10000000 moves with 1000000 cups, what is the product of the two cups following cup 1?"
   ]
  },
  {
   "cell_type": "code",
   "execution_count": 25,
   "metadata": {},
   "outputs": [
    {
     "name": "stderr",
     "output_type": "stream",
     "text": [
      "2020-12-27 09:28:50 INFO: Problem 45. After 100 steps, the sequence is 26354798\n",
      "2020-12-27 09:29:14 INFO: Problem 46: Product of 367311 and 452745 is 166298218695\n"
     ]
    }
   ],
   "source": [
    "cup_str = '284573961'\n",
    "#cup_str_test = '389125467'\n",
    "\n",
    "def crab_shuffle(cups):\n",
    "    active, retval = cups[0], cups[4:]\n",
    "    dest = active\n",
    "    while dest not in retval:\n",
    "        dest = dest - 1 if dest > 1 else len(cups)\n",
    "    dest_index = retval.index(dest)\n",
    "    retval = retval[:dest_index+1] + cups[1:4] + retval[dest_index+1:] + [active]\n",
    "    return retval\n",
    "\n",
    "def rotate_solution(cups):\n",
    "    one_index = cups.index(1)\n",
    "    return cups[one_index + 1:] + cups[:one_index] + [1]\n",
    "\n",
    "cups = [int(x) for x in cup_str]\n",
    "moves = 100\n",
    "for step in range(moves):\n",
    "    cups = crab_shuffle(cups)\n",
    "solution = ''.join([str(x) for x in rotate_solution(cups)[:-1]])\n",
    "logging.info(\"Problem 45. After {} steps, the sequence is {}\".format(step+1, solution))\n",
    "\n",
    "################################################################\n",
    "\n",
    "class Node:\n",
    "    def __init__(self, val):\n",
    "        self.val = val\n",
    "        self.next = None\n",
    "        \n",
    "def crab_shuffle2(root, numCups, allCups):\n",
    "    movers = root.next\n",
    "    new_root = movers.next.next.next\n",
    "    root.next = new_root\n",
    "\n",
    "    dest_val = root.val - 1 if root.val > 1 else numCups\n",
    "    while dest_val in [movers.val, movers.next.val, movers.next.next.val]:\n",
    "        dest_val = dest_val - 1 if dest_val > 1 else numCups\n",
    "\n",
    "    movers.next.next.next = allcups[dest_val].next\n",
    "    allcups[dest_val].next = movers\n",
    "    return new_root\n",
    "\n",
    "def rotate_solution2(root, allcups):\n",
    "    return allcups[1].next\n",
    " \n",
    "\n",
    "numCups = 1000000\n",
    "moves = 10000000\n",
    "\n",
    "cups = [int(x) for x in cup_str] + [x for x in range(10,numCups+1)]\n",
    "allcups = dict()\n",
    "root = Node(cups[0])\n",
    "last = root\n",
    "allcups[cups[0]] = last\n",
    "for i in range(1,numCups):\n",
    "    last.next = Node(cups[i])\n",
    "    last = last.next\n",
    "    allcups[cups[i]] = last\n",
    "last.next = root\n",
    "\n",
    "for step in range(moves):\n",
    "    root = crab_shuffle2(root, numCups, allcups)\n",
    "root = rotate_solution2(root, allcups)\n",
    "logging.info(\"Problem 46: Product of {} and {} is {}\".format(root.val, root.next.val, root.val*root.next.val))\n"
   ]
  },
  {
   "cell_type": "markdown",
   "metadata": {},
   "source": [
    "## Day 24:  Lobby Layout"
   ]
  },
  {
   "cell_type": "markdown",
   "metadata": {},
   "source": [
    "### Problem 47: After all of the instructions have been followed, how many tiles are left with the black side up?"
   ]
  },
  {
   "cell_type": "markdown",
   "metadata": {},
   "source": [
    "### Problem 48: How many tiles will be black after 100 days?"
   ]
  },
  {
   "cell_type": "code",
   "execution_count": 26,
   "metadata": {},
   "outputs": [
    {
     "name": "stderr",
     "output_type": "stream",
     "text": [
      "2020-12-27 09:29:14 INFO: Got 466 lines from prob47.txt.\n",
      "2020-12-27 09:29:14 INFO: Problem 47: The number of black tiles is 400.\n",
      "2020-12-27 09:29:16 INFO: Problem 48: After round 100 the number of black tiles is 3768.\n"
     ]
    }
   ],
   "source": [
    "def get_alldirs(lines):\n",
    "    retval = []\n",
    "    directions_re = re.compile(\"^(se|sw|nw|ne|w|e)(.*)$\")\n",
    "    for line in lines:\n",
    "        dirs = []\n",
    "        m1 = directions_re.match(line)\n",
    "        while m1 != None:\n",
    "            dirs.append(m1.groups(1)[0])\n",
    "            m1 = directions_re.match(m1.groups(1)[1])\n",
    "        retval.append(dirs)\n",
    "    return retval\n",
    "\n",
    "def follow_dirs(pos, dirs, moves):\n",
    "    retval = pos[:]\n",
    "    for d in dirs:\n",
    "        retval[0] += moves[d][0]\n",
    "        retval[1] += moves[d][1]\n",
    "    return retval\n",
    "\n",
    "def get_black_tiles(dirs, moves):\n",
    "    retval = set()  # retval[(x,y)] = 'b' # hold black tiles\n",
    "    for dirs in alldirs:\n",
    "        loc = tuple(follow_dirs([0,0], dirs, moves))\n",
    "        if loc in retval:\n",
    "            retval.remove(loc)\n",
    "        else:\n",
    "            retval.add(loc)\n",
    "    return retval    \n",
    "\n",
    "def add_vecs(v1, v2):\n",
    "    return v1[0] + v2[0], v1[1] + v2[1]\n",
    "\n",
    "def get_adj_black(pos, tiles, moves):\n",
    "    return sum([add_vecs(pos, m) in tiles for m in moves.values()])\n",
    "\n",
    "################################################################\n",
    "\n",
    "# Hex Grid with 2-dimensions\n",
    "# 2 1 0 1 2 3\n",
    "#  2 1 0 1 2 3\n",
    "#   2 1 * 1 2 3\n",
    "#    2 1 0 1 2 3\n",
    "#     2 1 0 1 2 3   \n",
    "#      2 1 0 1 2 3\n",
    "\n",
    "lines = get_string_input('prob47.txt')\n",
    "alldirs = get_alldirs(lines)\n",
    "moves = {'e':[1,0], 'w':[-1,0], 'ne':[1,1], \n",
    "         'nw':[0,1], 'se':[0,-1], 'sw':[-1,-1]}\n",
    "tiles = get_black_tiles(alldirs, moves)\n",
    "logging.info(\"Problem 47: The number of black tiles is {}.\".format(len(tiles),))\n",
    "        \n",
    "rounds = 100\n",
    "for i in range(rounds):\n",
    "    new_tiles = set()\n",
    "    xs, ys = [v[0] for v in tiles], [v[1] for v in tiles]\n",
    "    minx, maxx, miny, maxy = min(xs), max(xs), min(ys), max(ys)\n",
    "\n",
    "    for x, y in tt.product(range(minx-1, maxx+2), range(miny-1, maxy+2)):\n",
    "        pos = tuple([x,y])\n",
    "        num_adj_black = get_adj_black(pos, tiles, moves)\n",
    "        if pos not in tiles and num_adj_black == 2:\n",
    "            new_tiles.add(pos)\n",
    "        elif pos in tiles and num_adj_black in [1,2]:\n",
    "            new_tiles.add(pos)\n",
    "    tiles = new_tiles\n",
    "logging.info(\"Problem 48: After round {} the number of black tiles is {}.\".format(i + 1, len(tiles)))\n"
   ]
  },
  {
   "cell_type": "markdown",
   "metadata": {},
   "source": [
    "## Day 25: Combo Breaker"
   ]
  },
  {
   "cell_type": "markdown",
   "metadata": {},
   "source": [
    "### Problem 49: What encryption key is the handshake trying to establish?"
   ]
  },
  {
   "cell_type": "markdown",
   "metadata": {},
   "source": [
    "### Problem 50: Click a button."
   ]
  },
  {
   "cell_type": "code",
   "execution_count": 27,
   "metadata": {},
   "outputs": [
    {
     "name": "stderr",
     "output_type": "stream",
     "text": [
      "2020-12-27 09:29:20 INFO: Problem 49: The encryption key is 19774660.\n"
     ]
    }
   ],
   "source": [
    "def get_sec(base, modulus, pub):\n",
    "    retval = 1\n",
    "    sub_val = base\n",
    "    while sub_val != pub:\n",
    "        retval += 1    \n",
    "        sub_val = (sub_val*base) % modulus\n",
    "    return retval\n",
    "\n",
    "def get_enc_val(base, modulus, secret):\n",
    "    retval = 1\n",
    "    for _ in range(secret):\n",
    "        retval = (retval * base) % modulus\n",
    "    return retval\n",
    "\n",
    "base, modulus = 7, 20201227\n",
    "#card_pub, door_pub = 5764801, 17807724\n",
    "card_pub, door_pub = 15628416, 11161639\n",
    "\n",
    "#card_sec = get_sec(base, modulus, card_pub)\n",
    "door_sec = get_sec(base, modulus, door_pub)\n",
    "enc_val = get_enc_val(card_pub, modulus, door_sec)\n",
    "#enc_val = get_enc_val(door_pub, modulus, card_sec)\n",
    "logging.info(\"Problem 49: The encryption key is {}.\".format(enc_val,))\n"
   ]
  },
  {
   "cell_type": "code",
   "execution_count": null,
   "metadata": {},
   "outputs": [],
   "source": []
  }
 ],
 "metadata": {
  "kernelspec": {
   "display_name": "Python 3",
   "language": "python",
   "name": "python3"
  },
  "language_info": {
   "codemirror_mode": {
    "name": "ipython",
    "version": 3
   },
   "file_extension": ".py",
   "mimetype": "text/x-python",
   "name": "python",
   "nbconvert_exporter": "python",
   "pygments_lexer": "ipython3",
   "version": "3.7.4"
  }
 },
 "nbformat": 4,
 "nbformat_minor": 2
}
